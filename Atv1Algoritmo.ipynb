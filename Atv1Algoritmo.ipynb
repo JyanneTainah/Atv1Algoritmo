{
  "nbformat": 4,
  "nbformat_minor": 0,
  "metadata": {
    "colab": {
      "provenance": [],
      "authorship_tag": "ABX9TyMhycKW6GOkBGSYuvF6ktvA"
    },
    "kernelspec": {
      "name": "python3",
      "display_name": "Python 3"
    },
    "language_info": {
      "name": "python"
    }
  },
  "cells": [
    {
      "cell_type": "code",
      "execution_count": null,
      "metadata": {
        "id": "dviT1AYPakUf"
      },
      "outputs": [],
      "source": [
        "def criar_matriz_adjacencias(num_vertices, arestas):\n",
        "    matriz = [[0] * num_vertices for _ in range(num_vertices)]\n",
        "    for u, v in arestas:\n",
        "        matriz[u][v] = 1\n",
        "        matriz[v][u] = 1  # Para grafos não direcionados\n",
        "    return matriz\n",
        "\n",
        "def criar_lista_adjacencias(num_vertices, arestas):\n",
        "    lista = [[] for _ in range(num_vertices)]\n",
        "    for u, v in arestas:\n",
        "        lista[u].append(v)\n",
        "        lista[v].append(u)  # Para grafos não direcionados\n",
        "    return lista\n",
        "\n",
        "def calcular_graus(grafo):\n",
        "    if isinstance(grafo, list):  # Lista de adjacências\n",
        "        return [len(vizinhos) for vizinhos in grafo]\n",
        "    elif isinstance(grafo, (list, tuple)):  # Matriz de adjacências\n",
        "        return [sum(linha) for linha in grafo]\n",
        "\n",
        "def main():\n",
        "    num_vertices = int(input(\"Digite o número de vértices: \"))\n",
        "    num_arestas = int(input(\"Digite o número de arestas: \"))\n",
        "\n",
        "    arestas = []\n",
        "    for _ in range(num_arestas):\n",
        "        u, v = map(int, input(\"Digite a aresta (u v): \").split())\n",
        "        arestas.append((u, v))\n",
        "\n",
        "    escolha = input(\"Deseja armazenar como matriz (m) ou lista (l) de adjacências? \").strip().lower()\n",
        "\n",
        "    if escolha == 'm':\n",
        "        grafo = criar_matriz_adjacencias(num_vertices, arestas)\n",
        "        print(\"Matriz de Adjacências:\")\n",
        "        for linha in grafo:\n",
        "            print(linha)\n",
        "    elif escolha == 'l':\n",
        "        grafo = criar_lista_adjacencias(num_vertices, arestas)\n",
        "        print(\"Lista de Adjacências:\")\n",
        "        for i, vizinhos in enumerate(grafo):\n",
        "            print(f\"{i}: {vizinhos}\")\n",
        "    else:\n",
        "        print(\"Escolha inválida!\")\n",
        "        return\n",
        "\n",
        "    graus = calcular_graus(grafo)\n",
        "    print(\"Grau de cada vértice:\", graus)\n",
        "\n",
        "if __name__ == \"__main__\":\n",
        "    main()"
      ]
    }
  ]
}