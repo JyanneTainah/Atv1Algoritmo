{
  "nbformat": 4,
  "nbformat_minor": 0,
  "metadata": {
    "colab": {
      "provenance": [],
      "authorship_tag": "ABX9TyMhycKW6GOkBGSYuvF6ktvA"
    },
    "kernelspec": {
      "name": "python3",
      "display_name": "Python 3"
    },
    "language_info": {
      "name": "python"
    }
  },
  "cells": [
    {
      "cell_type": "code",
      "execution_count": 9,
      "metadata": {
        "colab": {
          "base_uri": "https://localhost:8080/"
        },
        "id": "dviT1AYPakUf",
        "outputId": "a1dc3b5d-b3b6-442a-c36d-2e5766560c49"
      },
      "outputs": [
        {
          "output_type": "stream",
          "name": "stdout",
          "text": [
            "Digite o número de vértices: 6\n",
            "Digite o número de arestas: 8\n",
            "Digite a aresta (u v): 0 1\n",
            "Digite a aresta (u v): 0 2\n",
            "Digite a aresta (u v): 2 0\n",
            "Digite a aresta (u v): 2 3\n",
            "Digite a aresta (u v): 3 2\n",
            "Digite a aresta (u v): 3 1\n",
            "Digite a aresta (u v): 3 4\n",
            "Digite a aresta (u v): 3 5\n",
            "Deseja armazenar como matriz (m) ou lista (l) de adjacências? l\n",
            "Lista de Adjacências:\n",
            "0: [1, 2, 2]\n",
            "1: [0, 3]\n",
            "2: [0, 0, 3, 3]\n",
            "3: [2, 2, 1, 4, 5]\n",
            "4: [3]\n",
            "5: [3]\n",
            "Grau de cada vértice: [3, 2, 4, 5, 1, 1]\n"
          ]
        }
      ],
      "source": [
        "def criar_matriz_adjacencias(num_vertices, arestas):\n",
        "    matriz = [[0] * num_vertices for _ in range(num_vertices)]\n",
        "    for u, v in arestas:\n",
        "        matriz[u][v] = 1\n",
        "        matriz[v][u] = 1  # Para grafos não direcionados\n",
        "    return matriz\n",
        "\n",
        "def criar_lista_adjacencias(num_vertices, arestas):\n",
        "    lista = [[] for _ in range(num_vertices)]\n",
        "    for u, v in arestas:\n",
        "        lista[u].append(v)\n",
        "        lista[v].append(u)  # Para grafos não direcionados\n",
        "    return lista\n",
        "\n",
        "def calcular_graus(grafo):\n",
        "    if isinstance(grafo, list):  # Lista de adjacências\n",
        "        return [len(vizinhos) for vizinhos in grafo]\n",
        "    elif isinstance(grafo, (list, tuple)):  # Matriz de adjacências\n",
        "        return [sum(linha) for linha in grafo]\n",
        "\n",
        "def main():\n",
        "    num_vertices = int(input(\"Digite o número de vértices: \"))\n",
        "    num_arestas = int(input(\"Digite o número de arestas: \"))\n",
        "\n",
        "    arestas = []\n",
        "    for _ in range(num_arestas):\n",
        "        u, v = map(int, input(\"Digite a aresta (u v): \").split())\n",
        "        arestas.append((u, v))\n",
        "\n",
        "    escolha = input(\"Deseja armazenar como matriz (m) ou lista (l) de adjacências? \").strip().lower()\n",
        "\n",
        "    if escolha == 'm':\n",
        "        grafo = criar_matriz_adjacencias(num_vertices, arestas)\n",
        "        print(\"Matriz de Adjacências:\")\n",
        "        for linha in grafo:\n",
        "            print(linha)\n",
        "    elif escolha == 'l':\n",
        "        grafo = criar_lista_adjacencias(num_vertices, arestas)\n",
        "        print(\"Lista de Adjacências:\")\n",
        "        for i, vizinhos in enumerate(grafo):\n",
        "            print(f\"{i}: {vizinhos}\")\n",
        "    else:\n",
        "        print(\"Escolha inválida!\")\n",
        "        return\n",
        "\n",
        "    graus = calcular_graus(grafo)\n",
        "    print(\"Grau de cada vértice:\", graus)\n",
        "\n",
        "if __name__ == \"__main__\":\n",
        "    main()"
      ]
    }
  ]
}